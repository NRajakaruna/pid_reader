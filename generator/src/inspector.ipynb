{
 "cells": [
  {
   "cell_type": "code",
   "execution_count": 12,
   "metadata": {},
   "outputs": [
    {
     "data": {
      "text/plain": [
       "array(['P-Process', 'L-Piping', 'H-HVAC', 'T-telecom', 'N-Structural',\n",
       "       'R-Mechanical', 'E-Electro', 'J-Instrument', 'S-Safety'],\n",
       "      dtype=object)"
      ]
     },
     "execution_count": 12,
     "metadata": {},
     "output_type": "execute_result"
    }
   ],
   "source": [
    "from metadata import SymbolStorage\n",
    "\n",
    "ss = SymbolStorage()\n",
    "df = ss.get_dataframe()\n",
    "df.matter.unique()"
   ]
  },
  {
   "cell_type": "code",
   "execution_count": 2,
   "metadata": {},
   "outputs": [
    {
     "data": {
      "text/html": [
       "<div>\n",
       "<style scoped>\n",
       "    .dataframe tbody tr th:only-of-type {\n",
       "        vertical-align: middle;\n",
       "    }\n",
       "\n",
       "    .dataframe tbody tr th {\n",
       "        vertical-align: top;\n",
       "    }\n",
       "\n",
       "    .dataframe thead th {\n",
       "        text-align: right;\n",
       "    }\n",
       "</style>\n",
       "<table border=\"1\" class=\"dataframe\">\n",
       "  <thead>\n",
       "    <tr style=\"text-align: right;\">\n",
       "      <th></th>\n",
       "      <th>name</th>\n",
       "      <th>family</th>\n",
       "      <th>description</th>\n",
       "      <th>matter</th>\n",
       "    </tr>\n",
       "  </thead>\n",
       "  <tbody>\n",
       "    <tr>\n",
       "      <th>0</th>\n",
       "      <td>STPL001</td>\n",
       "      <td>Line Symbols</td>\n",
       "      <td>HEADER DRAWING</td>\n",
       "      <td>P-Process</td>\n",
       "    </tr>\n",
       "    <tr>\n",
       "      <th>1</th>\n",
       "      <td>STPL002</td>\n",
       "      <td>Line Symbols</td>\n",
       "      <td>TWO WAY DRAWING REFERENCE</td>\n",
       "      <td>P-Process</td>\n",
       "    </tr>\n",
       "    <tr>\n",
       "      <th>2</th>\n",
       "      <td>STPL004</td>\n",
       "      <td>Line Symbols</td>\n",
       "      <td>OFFPAGE CONNECTOR FLOW RIGHT</td>\n",
       "      <td>P-Process</td>\n",
       "    </tr>\n",
       "    <tr>\n",
       "      <th>3</th>\n",
       "      <td>STPL005</td>\n",
       "      <td>Line Symbols</td>\n",
       "      <td>OFFPAGE CONNNECTOR FLOW LEFT</td>\n",
       "      <td>P-Process</td>\n",
       "    </tr>\n",
       "    <tr>\n",
       "      <th>4</th>\n",
       "      <td>STPL024</td>\n",
       "      <td>Line Symbols</td>\n",
       "      <td>FULL HEADER DRAWING</td>\n",
       "      <td>P-Process</td>\n",
       "    </tr>\n",
       "    <tr>\n",
       "      <th>...</th>\n",
       "      <td>...</td>\n",
       "      <td>...</td>\n",
       "      <td>...</td>\n",
       "      <td>...</td>\n",
       "    </tr>\n",
       "    <tr>\n",
       "      <th>1207</th>\n",
       "      <td>STSF014</td>\n",
       "      <td>Fire fighting equipment</td>\n",
       "      <td>WHEELED EXTINGUISHER</td>\n",
       "      <td>S-Safety</td>\n",
       "    </tr>\n",
       "    <tr>\n",
       "      <th>1208</th>\n",
       "      <td>STSF015</td>\n",
       "      <td>Fire fighting equipment</td>\n",
       "      <td>BREATHING APPARATUS</td>\n",
       "      <td>S-Safety</td>\n",
       "    </tr>\n",
       "    <tr>\n",
       "      <th>1209</th>\n",
       "      <td>STSP007</td>\n",
       "      <td>Passive fire protetion</td>\n",
       "      <td>FIRE PROOFING MATERIAL</td>\n",
       "      <td>S-Safety</td>\n",
       "    </tr>\n",
       "    <tr>\n",
       "      <th>1210</th>\n",
       "      <td>STSP008</td>\n",
       "      <td>Passive fire protetion</td>\n",
       "      <td>FIRE PROOFING MATERIAL</td>\n",
       "      <td>S-Safety</td>\n",
       "    </tr>\n",
       "    <tr>\n",
       "      <th>1211</th>\n",
       "      <td>STSP009</td>\n",
       "      <td>Passive fire protetion</td>\n",
       "      <td>FIRE PROOFING MATERIAL</td>\n",
       "      <td>S-Safety</td>\n",
       "    </tr>\n",
       "  </tbody>\n",
       "</table>\n",
       "<p>1212 rows × 4 columns</p>\n",
       "</div>"
      ],
      "text/plain": [
       "         name                   family                   description  \\\n",
       "0     STPL001             Line Symbols                HEADER DRAWING   \n",
       "1     STPL002             Line Symbols     TWO WAY DRAWING REFERENCE   \n",
       "2     STPL004             Line Symbols  OFFPAGE CONNECTOR FLOW RIGHT   \n",
       "3     STPL005             Line Symbols  OFFPAGE CONNNECTOR FLOW LEFT   \n",
       "4     STPL024             Line Symbols           FULL HEADER DRAWING   \n",
       "...       ...                      ...                           ...   \n",
       "1207  STSF014  Fire fighting equipment          WHEELED EXTINGUISHER   \n",
       "1208  STSF015  Fire fighting equipment           BREATHING APPARATUS   \n",
       "1209  STSP007   Passive fire protetion        FIRE PROOFING MATERIAL   \n",
       "1210  STSP008   Passive fire protetion        FIRE PROOFING MATERIAL   \n",
       "1211  STSP009   Passive fire protetion        FIRE PROOFING MATERIAL   \n",
       "\n",
       "         matter  \n",
       "0     P-Process  \n",
       "1     P-Process  \n",
       "2     P-Process  \n",
       "3     P-Process  \n",
       "4     P-Process  \n",
       "...         ...  \n",
       "1207   S-Safety  \n",
       "1208   S-Safety  \n",
       "1209   S-Safety  \n",
       "1210   S-Safety  \n",
       "1211   S-Safety  \n",
       "\n",
       "[1212 rows x 4 columns]"
      ]
     },
     "execution_count": 2,
     "metadata": {},
     "output_type": "execute_result"
    }
   ],
   "source": [
    "df"
   ]
  },
  {
   "cell_type": "code",
   "execution_count": null,
   "metadata": {},
   "outputs": [],
   "source": [
    "pd.read_csv()"
   ]
  },
  {
   "cell_type": "code",
   "execution_count": 33,
   "metadata": {},
   "outputs": [
    {
     "data": {
      "image/png": "[encoded data removed]",
      "text/plain": [
       "<Figure size 432x288 with 1 Axes>"
      ]
     },
     "metadata": {},
     "output_type": "display_data"
    }
   ],
   "source": [
    "from fa2 import ForceAtlas2\n",
    "import numpy as np\n",
    "import networkx as nx\n",
    "import matplotlib.pyplot as plt\n",
    "forceatlas2 = ForceAtlas2(\n",
    "                        # Behavior alternatives\n",
    "                        outboundAttractionDistribution=True,  # Dissuade hubs\n",
    "                        linLogMode=False,  # NOT IMPLEMENTED\n",
    "                        adjustSizes=False,  # Prevent overlap (NOT IMPLEMENTED)\n",
    "                        edgeWeightInfluence=1.0,\n",
    "                        # Performance\n",
    "                        jitterTolerance=0.1,  # Tolerance\n",
    "                        barnesHutOptimize=True,\n",
    "                        barnesHutTheta=1.2,\n",
    "                        multiThreaded=False,  # NOT IMPLEMENTED\n",
    "                        # Tuning\n",
    "                        scalingRatio=2.0,\n",
    "                        strongGravityMode=False,\n",
    "                        gravity=0.5,\n",
    "                        # Log\n",
    "                        verbose=False)\n",
    "G = np.identity(200)\n",
    "positions = forceatlas2.forceatlas2(G, pos=None, iterations=50)\n",
    "# To plot the graph\n",
    "networkx_graph = nx.from_numpy_matrix(G)\n",
    "nx.draw_networkx(networkx_graph, positions, node_size=20, with_labels=False, alpha=0.5)\n",
    "plt.axis('off')\n",
    "plt.show()"
   ]
  },
  {
   "cell_type": "code",
   "execution_count": 34,
   "metadata": {},
   "outputs": [
    {
     "name": "stdout",
     "output_type": "stream",
     "text": [
      "147.99810163430135 151.26978755260114\n"
     ]
    },
    {
     "data": {
      "text/plain": [
       "[(1580.9104904426763, 1863.6744647163557),\n",
       " (917.2815814074524, 1068.8240197144937),\n",
       " (2161.558139660314, 251.0330769435588),\n",
       " (4835.077585338726, 1192.2780968040422),\n",
       " (3023.3852392128847, 2267.6103833157763),\n",
       " (1506.4715365190057, 358.25252419809243),\n",
       " (2933.9708369209748, 1747.6000210753361),\n",
       " (3849.323035593003, 602.494173042498),\n",
       " (1639.7323545779727, 2905.0319749029886),\n",
       " (2076.510931268512, 3145.18694812653)]"
      ]
     },
     "execution_count": 34,
     "metadata": {},
     "output_type": "execute_result"
    }
   ],
   "source": [
    "#[np.max(positions),np.min(positions)]\n",
    "x,y = zip(*positions)\n",
    "x_range = (np.max(x)-min(x))\n",
    "y_range = (np.max(y)-min(y))\n",
    "dx,dy = (5000-100,3500-100)\n",
    "print(x_range, y_range)\n",
    "x_ratio = dx/x_range\n",
    "y_ratio = dy/y_range\n",
    "x = (np.array(x)+np.abs(min(x))) * x_ratio + 50\n",
    "y = (np.array(y)+np.abs(min(y))) * y_ratio + 50\n",
    "max(x),min(x),max(y),min(y)\n",
    "positions = list(zip(x,y))\n",
    "positions[:10]"
   ]
  }
 ],
 "metadata": {
  "kernelspec": {
   "display_name": "Python 3",
   "language": "python",
   "name": "python3"
  },
  "language_info": {
   "codemirror_mode": {
    "name": "ipython",
    "version": 3
   },
   "file_extension": ".py",
   "mimetype": "text/x-python",
   "name": "python",
   "nbconvert_exporter": "python",
   "pygments_lexer": "ipython3",
   "version": "3.7.7"
  }
 },
 "nbformat": 4,
 "nbformat_minor": 1
}
